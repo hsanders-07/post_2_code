{
 "cells": [
  {
   "cell_type": "code",
   "execution_count": 2,
   "metadata": {},
   "outputs": [],
   "source": [
    "import pandas as pd\n",
    "import numpy as np\n",
    "import requests\n",
    "import re\n",
    "import urllib.parse\n",
    "import matplotlib.pyplot as plt\n",
    "import seaborn as sns"
   ]
  },
  {
   "cell_type": "code",
   "execution_count": 3,
   "metadata": {},
   "outputs": [],
   "source": [
    "## First, get the api key\n",
    "with open('cfb_apikey.txt', 'r') as file:\n",
    "    apikey = f\"Bearer {file.read()}\""
   ]
  },
  {
   "cell_type": "code",
   "execution_count": 4,
   "metadata": {},
   "outputs": [],
   "source": [
    "# specify base_url and endpoint url\n",
    "url = \"https://api.collegefootballdata.com/drives?seasonType=regular&year=2008&team=Utah\""
   ]
  },
  {
   "cell_type": "code",
   "execution_count": 5,
   "metadata": {},
   "outputs": [],
   "source": [
    "headers = {\n",
    "    \"Authorization\": apikey,\n",
    "    \"Content-Type\": \"application/json\"\n",
    "}"
   ]
  },
  {
   "cell_type": "code",
   "execution_count": 6,
   "metadata": {},
   "outputs": [
    {
     "name": "stdout",
     "output_type": "stream",
     "text": [
      "True\n"
     ]
    }
   ],
   "source": [
    "r = requests.get(url, headers=headers)\n",
    "print(r.ok)"
   ]
  },
  {
   "cell_type": "code",
   "execution_count": 7,
   "metadata": {},
   "outputs": [],
   "source": [
    "my_dict = r.json()"
   ]
  },
  {
   "cell_type": "code",
   "execution_count": 10,
   "metadata": {},
   "outputs": [
    {
     "data": {
      "text/plain": [
       "Index(['offense', 'offense_conference', 'defense', 'defense_conference',\n",
       "       'game_id', 'id', 'drive_number', 'scoring', 'start_period',\n",
       "       'start_yardline', 'start_yards_to_goal', 'start_time', 'end_period',\n",
       "       'end_yardline', 'end_yards_to_goal', 'end_time', 'elapsed', 'plays',\n",
       "       'yards', 'drive_result', 'is_home_offense', 'start_offense_score',\n",
       "       'start_defense_score', 'end_offense_score', 'end_defense_score'],\n",
       "      dtype='object')"
      ]
     },
     "execution_count": 10,
     "metadata": {},
     "output_type": "execute_result"
    }
   ],
   "source": [
    "df = pd.DataFrame(my_dict)\n",
    "df.columns"
   ]
  },
  {
   "cell_type": "code",
   "execution_count": 12,
   "metadata": {},
   "outputs": [
    {
     "data": {
      "text/html": [
       "<div>\n",
       "<style scoped>\n",
       "    .dataframe tbody tr th:only-of-type {\n",
       "        vertical-align: middle;\n",
       "    }\n",
       "\n",
       "    .dataframe tbody tr th {\n",
       "        vertical-align: top;\n",
       "    }\n",
       "\n",
       "    .dataframe thead th {\n",
       "        text-align: right;\n",
       "    }\n",
       "</style>\n",
       "<table border=\"1\" class=\"dataframe\">\n",
       "  <thead>\n",
       "    <tr style=\"text-align: right;\">\n",
       "      <th></th>\n",
       "      <th>offense</th>\n",
       "      <th>defense</th>\n",
       "      <th>scoring</th>\n",
       "      <th>elapsed</th>\n",
       "      <th>plays</th>\n",
       "      <th>start_yards_to_goal</th>\n",
       "      <th>yards</th>\n",
       "      <th>drive_result</th>\n",
       "    </tr>\n",
       "  </thead>\n",
       "  <tbody>\n",
       "    <tr>\n",
       "      <th>0</th>\n",
       "      <td>Michigan</td>\n",
       "      <td>Utah</td>\n",
       "      <td>False</td>\n",
       "      <td>{'minutes': 1, 'seconds': 32}</td>\n",
       "      <td>3</td>\n",
       "      <td>71</td>\n",
       "      <td>2</td>\n",
       "      <td>PUNT</td>\n",
       "    </tr>\n",
       "    <tr>\n",
       "      <th>1</th>\n",
       "      <td>Michigan</td>\n",
       "      <td>Utah</td>\n",
       "      <td>True</td>\n",
       "      <td>{'minutes': 2, 'seconds': 8}</td>\n",
       "      <td>4</td>\n",
       "      <td>26</td>\n",
       "      <td>26</td>\n",
       "      <td>PASSING TD</td>\n",
       "    </tr>\n",
       "    <tr>\n",
       "      <th>2</th>\n",
       "      <td>Utah</td>\n",
       "      <td>Michigan</td>\n",
       "      <td>True</td>\n",
       "      <td>{'minutes': 3, 'seconds': 42}</td>\n",
       "      <td>8</td>\n",
       "      <td>75</td>\n",
       "      <td>75</td>\n",
       "      <td>RUSHING TD</td>\n",
       "    </tr>\n",
       "    <tr>\n",
       "      <th>3</th>\n",
       "      <td>Michigan</td>\n",
       "      <td>Utah</td>\n",
       "      <td>True</td>\n",
       "      <td>{'minutes': 2, 'seconds': 20}</td>\n",
       "      <td>6</td>\n",
       "      <td>50</td>\n",
       "      <td>17</td>\n",
       "      <td>FG GOOD</td>\n",
       "    </tr>\n",
       "    <tr>\n",
       "      <th>4</th>\n",
       "      <td>Utah</td>\n",
       "      <td>Michigan</td>\n",
       "      <td>True</td>\n",
       "      <td>{'minutes': 6, 'seconds': 14}</td>\n",
       "      <td>14</td>\n",
       "      <td>77</td>\n",
       "      <td>66</td>\n",
       "      <td>FG GOOD</td>\n",
       "    </tr>\n",
       "    <tr>\n",
       "      <th>...</th>\n",
       "      <td>...</td>\n",
       "      <td>...</td>\n",
       "      <td>...</td>\n",
       "      <td>...</td>\n",
       "      <td>...</td>\n",
       "      <td>...</td>\n",
       "      <td>...</td>\n",
       "      <td>...</td>\n",
       "    </tr>\n",
       "    <tr>\n",
       "      <th>309</th>\n",
       "      <td>Utah</td>\n",
       "      <td>BYU</td>\n",
       "      <td>True</td>\n",
       "      <td>{'seconds': 4, 'minutes': 0}</td>\n",
       "      <td>1</td>\n",
       "      <td>4</td>\n",
       "      <td>4</td>\n",
       "      <td>PASSING TD</td>\n",
       "    </tr>\n",
       "    <tr>\n",
       "      <th>310</th>\n",
       "      <td>BYU</td>\n",
       "      <td>Utah</td>\n",
       "      <td>False</td>\n",
       "      <td>{'minutes': 3, 'seconds': 58}</td>\n",
       "      <td>8</td>\n",
       "      <td>75</td>\n",
       "      <td>56</td>\n",
       "      <td>INT</td>\n",
       "    </tr>\n",
       "    <tr>\n",
       "      <th>311</th>\n",
       "      <td>Utah</td>\n",
       "      <td>BYU</td>\n",
       "      <td>True</td>\n",
       "      <td>{'minutes': 5, 'seconds': 24}</td>\n",
       "      <td>9</td>\n",
       "      <td>29</td>\n",
       "      <td>29</td>\n",
       "      <td>PASSING TD</td>\n",
       "    </tr>\n",
       "    <tr>\n",
       "      <th>312</th>\n",
       "      <td>BYU</td>\n",
       "      <td>Utah</td>\n",
       "      <td>False</td>\n",
       "      <td>{'seconds': 32, 'minutes': 0}</td>\n",
       "      <td>4</td>\n",
       "      <td>67</td>\n",
       "      <td>13</td>\n",
       "      <td>INT</td>\n",
       "    </tr>\n",
       "    <tr>\n",
       "      <th>313</th>\n",
       "      <td>Utah</td>\n",
       "      <td>BYU</td>\n",
       "      <td>False</td>\n",
       "      <td>{'minutes': 2, 'seconds': 6}</td>\n",
       "      <td>4</td>\n",
       "      <td>60</td>\n",
       "      <td>0</td>\n",
       "      <td>END OF GAME</td>\n",
       "    </tr>\n",
       "  </tbody>\n",
       "</table>\n",
       "<p>314 rows × 8 columns</p>\n",
       "</div>"
      ],
      "text/plain": [
       "      offense   defense  scoring                        elapsed  plays  \\\n",
       "0    Michigan      Utah    False  {'minutes': 1, 'seconds': 32}      3   \n",
       "1    Michigan      Utah     True   {'minutes': 2, 'seconds': 8}      4   \n",
       "2        Utah  Michigan     True  {'minutes': 3, 'seconds': 42}      8   \n",
       "3    Michigan      Utah     True  {'minutes': 2, 'seconds': 20}      6   \n",
       "4        Utah  Michigan     True  {'minutes': 6, 'seconds': 14}     14   \n",
       "..        ...       ...      ...                            ...    ...   \n",
       "309      Utah       BYU     True   {'seconds': 4, 'minutes': 0}      1   \n",
       "310       BYU      Utah    False  {'minutes': 3, 'seconds': 58}      8   \n",
       "311      Utah       BYU     True  {'minutes': 5, 'seconds': 24}      9   \n",
       "312       BYU      Utah    False  {'seconds': 32, 'minutes': 0}      4   \n",
       "313      Utah       BYU    False   {'minutes': 2, 'seconds': 6}      4   \n",
       "\n",
       "     start_yards_to_goal  yards drive_result  \n",
       "0                     71      2         PUNT  \n",
       "1                     26     26   PASSING TD  \n",
       "2                     75     75   RUSHING TD  \n",
       "3                     50     17      FG GOOD  \n",
       "4                     77     66      FG GOOD  \n",
       "..                   ...    ...          ...  \n",
       "309                    4      4   PASSING TD  \n",
       "310                   75     56          INT  \n",
       "311                   29     29   PASSING TD  \n",
       "312                   67     13          INT  \n",
       "313                   60      0  END OF GAME  \n",
       "\n",
       "[314 rows x 8 columns]"
      ]
     },
     "execution_count": 12,
     "metadata": {},
     "output_type": "execute_result"
    }
   ],
   "source": [
    "columns_wanted = ['offense', 'defense', 'scoring', 'elapsed', 'plays', 'start_yards_to_goal', 'yards', 'drive_result']\n",
    "df[columns_wanted]"
   ]
  }
 ],
 "metadata": {
  "kernelspec": {
   "display_name": "stat386env",
   "language": "python",
   "name": "python3"
  },
  "language_info": {
   "codemirror_mode": {
    "name": "ipython",
    "version": 3
   },
   "file_extension": ".py",
   "mimetype": "text/x-python",
   "name": "python",
   "nbconvert_exporter": "python",
   "pygments_lexer": "ipython3",
   "version": "3.12.5"
  }
 },
 "nbformat": 4,
 "nbformat_minor": 2
}
