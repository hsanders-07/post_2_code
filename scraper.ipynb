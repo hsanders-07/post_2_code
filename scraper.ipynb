{
 "cells": [
  {
   "cell_type": "code",
   "execution_count": 2,
   "metadata": {},
   "outputs": [],
   "source": [
    "import pandas as pd\n",
    "import numpy as np\n",
    "import requests\n",
    "import re\n",
    "import urllib.parse\n",
    "import matplotlib.pyplot as plt\n",
    "import seaborn as sns"
   ]
  },
  {
   "cell_type": "code",
   "execution_count": 12,
   "metadata": {},
   "outputs": [],
   "source": [
    "## First, get the api key\n",
    "with open('cfb_apikey.txt', 'r') as file:\n",
    "    apikey = f\"Bearer {file.read()}\""
   ]
  },
  {
   "cell_type": "code",
   "execution_count": 35,
   "metadata": {},
   "outputs": [],
   "source": [
    "# specify base_url and endpoint url\n",
    "url = \"https://api.collegefootballdata.com/drives?seasonType=regular&year=2008&team=Utah&offense=Utah\""
   ]
  },
  {
   "cell_type": "code",
   "execution_count": 36,
   "metadata": {},
   "outputs": [],
   "source": [
    "headers = {\n",
    "    \"Authorization\": apikey,\n",
    "    \"Content-Type\": \"application/json\"\n",
    "}"
   ]
  },
  {
   "cell_type": "code",
   "execution_count": 37,
   "metadata": {},
   "outputs": [
    {
     "name": "stdout",
     "output_type": "stream",
     "text": [
      "True\n"
     ]
    }
   ],
   "source": [
    "r = requests.get(url, headers=headers)\n",
    "print(r.ok)\n",
    "# print(r.url)"
   ]
  },
  {
   "cell_type": "code",
   "execution_count": 40,
   "metadata": {},
   "outputs": [],
   "source": [
    "my_dict = r.json()"
   ]
  },
  {
   "cell_type": "code",
   "execution_count": 48,
   "metadata": {},
   "outputs": [
    {
     "data": {
      "text/html": [
       "<div>\n",
       "<style scoped>\n",
       "    .dataframe tbody tr th:only-of-type {\n",
       "        vertical-align: middle;\n",
       "    }\n",
       "\n",
       "    .dataframe tbody tr th {\n",
       "        vertical-align: top;\n",
       "    }\n",
       "\n",
       "    .dataframe thead th {\n",
       "        text-align: right;\n",
       "    }\n",
       "</style>\n",
       "<table border=\"1\" class=\"dataframe\">\n",
       "  <thead>\n",
       "    <tr style=\"text-align: right;\">\n",
       "      <th></th>\n",
       "      <th>defense</th>\n",
       "      <th>scoring</th>\n",
       "      <th>elapsed</th>\n",
       "      <th>plays</th>\n",
       "      <th>yards</th>\n",
       "      <th>drive_result</th>\n",
       "    </tr>\n",
       "  </thead>\n",
       "  <tbody>\n",
       "    <tr>\n",
       "      <th>0</th>\n",
       "      <td>Michigan</td>\n",
       "      <td>True</td>\n",
       "      <td>{'minutes': 3, 'seconds': 42}</td>\n",
       "      <td>8</td>\n",
       "      <td>75</td>\n",
       "      <td>RUSHING TD</td>\n",
       "    </tr>\n",
       "    <tr>\n",
       "      <th>1</th>\n",
       "      <td>Michigan</td>\n",
       "      <td>True</td>\n",
       "      <td>{'minutes': 6, 'seconds': 14}</td>\n",
       "      <td>14</td>\n",
       "      <td>66</td>\n",
       "      <td>FG GOOD</td>\n",
       "    </tr>\n",
       "    <tr>\n",
       "      <th>2</th>\n",
       "      <td>Michigan</td>\n",
       "      <td>True</td>\n",
       "      <td>{'minutes': 2, 'seconds': 7}</td>\n",
       "      <td>7</td>\n",
       "      <td>47</td>\n",
       "      <td>FG GOOD</td>\n",
       "    </tr>\n",
       "    <tr>\n",
       "      <th>3</th>\n",
       "      <td>Michigan</td>\n",
       "      <td>True</td>\n",
       "      <td>{'minutes': 3, 'seconds': 21}</td>\n",
       "      <td>8</td>\n",
       "      <td>58</td>\n",
       "      <td>FG GOOD</td>\n",
       "    </tr>\n",
       "    <tr>\n",
       "      <th>4</th>\n",
       "      <td>Michigan</td>\n",
       "      <td>False</td>\n",
       "      <td>{'minutes': 1, 'seconds': 4}</td>\n",
       "      <td>3</td>\n",
       "      <td>-3</td>\n",
       "      <td>PUNT</td>\n",
       "    </tr>\n",
       "    <tr>\n",
       "      <th>...</th>\n",
       "      <td>...</td>\n",
       "      <td>...</td>\n",
       "      <td>...</td>\n",
       "      <td>...</td>\n",
       "      <td>...</td>\n",
       "      <td>...</td>\n",
       "    </tr>\n",
       "    <tr>\n",
       "      <th>151</th>\n",
       "      <td>BYU</td>\n",
       "      <td>False</td>\n",
       "      <td>{'minutes': 2, 'seconds': 14}</td>\n",
       "      <td>3</td>\n",
       "      <td>6</td>\n",
       "      <td>PUNT</td>\n",
       "    </tr>\n",
       "    <tr>\n",
       "      <th>152</th>\n",
       "      <td>BYU</td>\n",
       "      <td>True</td>\n",
       "      <td>{'seconds': 36, 'minutes': 0}</td>\n",
       "      <td>4</td>\n",
       "      <td>31</td>\n",
       "      <td>PASSING TD</td>\n",
       "    </tr>\n",
       "    <tr>\n",
       "      <th>153</th>\n",
       "      <td>BYU</td>\n",
       "      <td>True</td>\n",
       "      <td>{'seconds': 4, 'minutes': 0}</td>\n",
       "      <td>1</td>\n",
       "      <td>4</td>\n",
       "      <td>PASSING TD</td>\n",
       "    </tr>\n",
       "    <tr>\n",
       "      <th>154</th>\n",
       "      <td>BYU</td>\n",
       "      <td>True</td>\n",
       "      <td>{'minutes': 5, 'seconds': 24}</td>\n",
       "      <td>9</td>\n",
       "      <td>29</td>\n",
       "      <td>PASSING TD</td>\n",
       "    </tr>\n",
       "    <tr>\n",
       "      <th>155</th>\n",
       "      <td>BYU</td>\n",
       "      <td>False</td>\n",
       "      <td>{'minutes': 2, 'seconds': 6}</td>\n",
       "      <td>4</td>\n",
       "      <td>0</td>\n",
       "      <td>END OF GAME</td>\n",
       "    </tr>\n",
       "  </tbody>\n",
       "</table>\n",
       "<p>156 rows × 6 columns</p>\n",
       "</div>"
      ],
      "text/plain": [
       "      defense  scoring                        elapsed  plays  yards  \\\n",
       "0    Michigan     True  {'minutes': 3, 'seconds': 42}      8     75   \n",
       "1    Michigan     True  {'minutes': 6, 'seconds': 14}     14     66   \n",
       "2    Michigan     True   {'minutes': 2, 'seconds': 7}      7     47   \n",
       "3    Michigan     True  {'minutes': 3, 'seconds': 21}      8     58   \n",
       "4    Michigan    False   {'minutes': 1, 'seconds': 4}      3     -3   \n",
       "..        ...      ...                            ...    ...    ...   \n",
       "151       BYU    False  {'minutes': 2, 'seconds': 14}      3      6   \n",
       "152       BYU     True  {'seconds': 36, 'minutes': 0}      4     31   \n",
       "153       BYU     True   {'seconds': 4, 'minutes': 0}      1      4   \n",
       "154       BYU     True  {'minutes': 5, 'seconds': 24}      9     29   \n",
       "155       BYU    False   {'minutes': 2, 'seconds': 6}      4      0   \n",
       "\n",
       "    drive_result  \n",
       "0     RUSHING TD  \n",
       "1        FG GOOD  \n",
       "2        FG GOOD  \n",
       "3        FG GOOD  \n",
       "4           PUNT  \n",
       "..           ...  \n",
       "151         PUNT  \n",
       "152   PASSING TD  \n",
       "153   PASSING TD  \n",
       "154   PASSING TD  \n",
       "155  END OF GAME  \n",
       "\n",
       "[156 rows x 6 columns]"
      ]
     },
     "execution_count": 48,
     "metadata": {},
     "output_type": "execute_result"
    }
   ],
   "source": [
    "df = pd.DataFrame(my_dict)\n",
    "columns_wanted = ['defense', 'scoring', 'elapsed', 'plays', 'yards', 'drive_result']\n",
    "df[columns_wanted]"
   ]
  }
 ],
 "metadata": {
  "kernelspec": {
   "display_name": "stat386env",
   "language": "python",
   "name": "python3"
  },
  "language_info": {
   "codemirror_mode": {
    "name": "ipython",
    "version": 3
   },
   "file_extension": ".py",
   "mimetype": "text/x-python",
   "name": "python",
   "nbconvert_exporter": "python",
   "pygments_lexer": "ipython3",
   "version": "3.12.5"
  }
 },
 "nbformat": 4,
 "nbformat_minor": 2
}
